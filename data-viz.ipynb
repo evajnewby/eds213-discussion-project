{
 "cells": [
  {
   "cell_type": "markdown",
   "metadata": {},
   "source": [
    "## Load Libraries and Read-in Data\n",
    "\n",
    "Make sure to exit DuckDB"
   ]
  },
  {
   "cell_type": "code",
   "execution_count": 1,
   "metadata": {},
   "outputs": [],
   "source": [
    "import pandas as pd\n",
    "import plotly.express as px"
   ]
  },
  {
   "cell_type": "code",
   "execution_count": 4,
   "metadata": {},
   "outputs": [],
   "source": [
    "top10_pm25_asthma = pd.read_csv(\"data/top10_pm25_asthma.csv\")"
   ]
  },
  {
   "cell_type": "code",
   "execution_count": null,
   "metadata": {},
   "outputs": [],
   "source": [
    "# From Chat\n",
    "\n",
    "\n",
    "# Combine county and state into a single label\n",
    "df[\"County, State\"] = df[\"county\"] + \", \" + df[\"state\"]\n",
    "\n",
    "# Sort by PM2.5 for cleaner plotting\n",
    "df = df.sort_values(\"avg_pm25\")\n",
    "\n",
    "# Create horizontal bar chart\n",
    "fig = px.bar(\n",
    "    df,\n",
    "    x=\"avg_pm25\",\n",
    "    y=\"County, State\",\n",
    "    color=\"asthma_rate\",\n",
    "    orientation=\"h\",\n",
    "    labels={\n",
    "        \"avg_pm25\": \"Average PM2.5 (μg/m³)\",\n",
    "        \"asthma_rate\": \"Asthma Rate (%)\",\n",
    "        \"County, State\": \"County\"\n",
    "    },\n",
    "    title=\"Top 10 Counties by Average PM2.5 in 2020 and Corresponding Asthma Rates\",\n",
    "    color_continuous_scale=\"Reds\"\n",
    ")\n",
    "\n",
    "fig.update_layout(\n",
    "    xaxis_title=\"Average PM2.5 (μg/m³)\",\n",
    "    yaxis_title=\"\",\n",
    "    coloraxis_colorbar=dict(title=\"Asthma Rate (%)\"),\n",
    "    margin={\"l\": 120, \"r\": 20, \"t\": 60, \"b\": 40}\n",
    ")\n",
    "\n",
    "fig.show()\n"
   ]
  },
  {
   "cell_type": "code",
   "execution_count": null,
   "metadata": {},
   "outputs": [],
   "source": [
    "# Save as html\n",
    "fig.write_html(\"pm25_asthma_chart.html\")"
   ]
  }
 ],
 "metadata": {
  "kernelspec": {
   "display_name": "end220-env",
   "language": "python",
   "name": "python3"
  },
  "language_info": {
   "codemirror_mode": {
    "name": "ipython",
    "version": 3
   },
   "file_extension": ".py",
   "mimetype": "text/x-python",
   "name": "python",
   "nbconvert_exporter": "python",
   "pygments_lexer": "ipython3",
   "version": "3.11.11"
  }
 },
 "nbformat": 4,
 "nbformat_minor": 2
}
