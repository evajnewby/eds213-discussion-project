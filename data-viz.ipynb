{
 "cells": [
  {
   "cell_type": "markdown",
   "metadata": {},
   "source": [
    "## Load Libraries and Read-in Data\n",
    "\n",
    "Make sure to exit DuckDB"
   ]
  },
  {
   "cell_type": "code",
   "execution_count": 6,
   "metadata": {},
   "outputs": [],
   "source": [
    "import pandas as pd\n",
    "import plotly.express as px"
   ]
  },
  {
   "cell_type": "code",
   "execution_count": 7,
   "metadata": {},
   "outputs": [],
   "source": [
    "top10_pm25_asthma = pd.read_csv(\"data/top10_pm25_asthma.csv\")"
   ]
  },
  {
   "cell_type": "markdown",
   "metadata": {},
   "source": [
    "Remember our question: Which California counties had the highest average PM2.5 concentration in 2020 (data is already filtered for 2020), and what were their corresponding asthma rates?"
   ]
  },
  {
   "cell_type": "code",
   "execution_count": 8,
   "metadata": {},
   "outputs": [
    {
     "data": {
      "application/vnd.plotly.v1+json": {
       "config": {
        "plotlyServerURL": "https://plot.ly"
       },
       "data": [
        {
         "alignmentgroup": "True",
         "hovertemplate": "Asthma Rate (%)=10.5%<br>Average PM2.5 (μg/m³)=%{x}<br>County=%{y}<extra></extra>",
         "legendgroup": "10.5%",
         "marker": {
          "color": "#636efa",
          "pattern": {
           "shape": ""
          }
         },
         "name": "10.5%",
         "offsetgroup": "10.5%",
         "orientation": "h",
         "showlegend": true,
         "textposition": "auto",
         "type": "bar",
         "x": [
          15.19,
          15.55,
          18.16
         ],
         "xaxis": "x",
         "y": [
          "Glenn, California",
          "Mariposa, California",
          "Plumas, California"
         ],
         "yaxis": "y"
        },
        {
         "alignmentgroup": "True",
         "hovertemplate": "Asthma Rate (%)=10.1%<br>Average PM2.5 (μg/m³)=%{x}<br>County=%{y}<extra></extra>",
         "legendgroup": "10.1%",
         "marker": {
          "color": "#EF553B",
          "pattern": {
           "shape": ""
          }
         },
         "name": "10.1%",
         "offsetgroup": "10.1%",
         "orientation": "h",
         "showlegend": true,
         "textposition": "auto",
         "type": "bar",
         "x": [
          15.75,
          16.89
         ],
         "xaxis": "x",
         "y": [
          "Colusa, California",
          "Inyo, California"
         ],
         "yaxis": "y"
        },
        {
         "alignmentgroup": "True",
         "hovertemplate": "Asthma Rate (%)=10.3%<br>Average PM2.5 (μg/m³)=%{x}<br>County=%{y}<extra></extra>",
         "legendgroup": "10.3%",
         "marker": {
          "color": "#00cc96",
          "pattern": {
           "shape": ""
          }
         },
         "name": "10.3%",
         "offsetgroup": "10.3%",
         "orientation": "h",
         "showlegend": true,
         "textposition": "auto",
         "type": "bar",
         "x": [
          16.8
         ],
         "xaxis": "x",
         "y": [
          "Fresno, California"
         ],
         "yaxis": "y"
        },
        {
         "alignmentgroup": "True",
         "hovertemplate": "Asthma Rate (%)=10.7%<br>Average PM2.5 (μg/m³)=%{x}<br>County=%{y}<extra></extra>",
         "legendgroup": "10.7%",
         "marker": {
          "color": "#ab63fa",
          "pattern": {
           "shape": ""
          }
         },
         "name": "10.7%",
         "offsetgroup": "10.7%",
         "orientation": "h",
         "showlegend": true,
         "textposition": "auto",
         "type": "bar",
         "x": [
          17.07
         ],
         "xaxis": "x",
         "y": [
          "Madera, California"
         ],
         "yaxis": "y"
        },
        {
         "alignmentgroup": "True",
         "hovertemplate": "Asthma Rate (%)=10.8%<br>Average PM2.5 (μg/m³)=%{x}<br>County=%{y}<extra></extra>",
         "legendgroup": "10.8%",
         "marker": {
          "color": "#FFA15A",
          "pattern": {
           "shape": ""
          }
         },
         "name": "10.8%",
         "offsetgroup": "10.8%",
         "orientation": "h",
         "showlegend": true,
         "textposition": "auto",
         "type": "bar",
         "x": [
          18.1
         ],
         "xaxis": "x",
         "y": [
          "Tulare, California"
         ],
         "yaxis": "y"
        },
        {
         "alignmentgroup": "True",
         "hovertemplate": "Asthma Rate (%)=10.0%<br>Average PM2.5 (μg/m³)=%{x}<br>County=%{y}<extra></extra>",
         "legendgroup": "10.0%",
         "marker": {
          "color": "#19d3f3",
          "pattern": {
           "shape": ""
          }
         },
         "name": "10.0%",
         "offsetgroup": "10.0%",
         "orientation": "h",
         "showlegend": true,
         "textposition": "auto",
         "type": "bar",
         "x": [
          19.66
         ],
         "xaxis": "x",
         "y": [
          "Kings, California"
         ],
         "yaxis": "y"
        },
        {
         "alignmentgroup": "True",
         "hovertemplate": "Asthma Rate (%)=9.7%<br>Average PM2.5 (μg/m³)=%{x}<br>County=%{y}<extra></extra>",
         "legendgroup": "9.7%",
         "marker": {
          "color": "#FF6692",
          "pattern": {
           "shape": ""
          }
         },
         "name": "9.7%",
         "offsetgroup": "9.7%",
         "orientation": "h",
         "showlegend": true,
         "textposition": "auto",
         "type": "bar",
         "x": [
          29.21
         ],
         "xaxis": "x",
         "y": [
          "Mono, California"
         ],
         "yaxis": "y"
        }
       ],
       "layout": {
        "barmode": "relative",
        "coloraxis": {
         "colorbar": {
          "title": {
           "text": "Asthma Rate (%)"
          }
         }
        },
        "legend": {
         "title": {
          "text": "Asthma Rate (%)"
         },
         "tracegroupgap": 0
        },
        "margin": {
         "b": 40,
         "l": 120,
         "r": 20,
         "t": 60
        },
        "template": {
         "data": {
          "bar": [
           {
            "error_x": {
             "color": "#2a3f5f"
            },
            "error_y": {
             "color": "#2a3f5f"
            },
            "marker": {
             "line": {
              "color": "#E5ECF6",
              "width": 0.5
             },
             "pattern": {
              "fillmode": "overlay",
              "size": 10,
              "solidity": 0.2
             }
            },
            "type": "bar"
           }
          ],
          "barpolar": [
           {
            "marker": {
             "line": {
              "color": "#E5ECF6",
              "width": 0.5
             },
             "pattern": {
              "fillmode": "overlay",
              "size": 10,
              "solidity": 0.2
             }
            },
            "type": "barpolar"
           }
          ],
          "carpet": [
           {
            "aaxis": {
             "endlinecolor": "#2a3f5f",
             "gridcolor": "white",
             "linecolor": "white",
             "minorgridcolor": "white",
             "startlinecolor": "#2a3f5f"
            },
            "baxis": {
             "endlinecolor": "#2a3f5f",
             "gridcolor": "white",
             "linecolor": "white",
             "minorgridcolor": "white",
             "startlinecolor": "#2a3f5f"
            },
            "type": "carpet"
           }
          ],
          "choropleth": [
           {
            "colorbar": {
             "outlinewidth": 0,
             "ticks": ""
            },
            "type": "choropleth"
           }
          ],
          "contour": [
           {
            "colorbar": {
             "outlinewidth": 0,
             "ticks": ""
            },
            "colorscale": [
             [
              0,
              "#0d0887"
             ],
             [
              0.1111111111111111,
              "#46039f"
             ],
             [
              0.2222222222222222,
              "#7201a8"
             ],
             [
              0.3333333333333333,
              "#9c179e"
             ],
             [
              0.4444444444444444,
              "#bd3786"
             ],
             [
              0.5555555555555556,
              "#d8576b"
             ],
             [
              0.6666666666666666,
              "#ed7953"
             ],
             [
              0.7777777777777778,
              "#fb9f3a"
             ],
             [
              0.8888888888888888,
              "#fdca26"
             ],
             [
              1,
              "#f0f921"
             ]
            ],
            "type": "contour"
           }
          ],
          "contourcarpet": [
           {
            "colorbar": {
             "outlinewidth": 0,
             "ticks": ""
            },
            "type": "contourcarpet"
           }
          ],
          "heatmap": [
           {
            "colorbar": {
             "outlinewidth": 0,
             "ticks": ""
            },
            "colorscale": [
             [
              0,
              "#0d0887"
             ],
             [
              0.1111111111111111,
              "#46039f"
             ],
             [
              0.2222222222222222,
              "#7201a8"
             ],
             [
              0.3333333333333333,
              "#9c179e"
             ],
             [
              0.4444444444444444,
              "#bd3786"
             ],
             [
              0.5555555555555556,
              "#d8576b"
             ],
             [
              0.6666666666666666,
              "#ed7953"
             ],
             [
              0.7777777777777778,
              "#fb9f3a"
             ],
             [
              0.8888888888888888,
              "#fdca26"
             ],
             [
              1,
              "#f0f921"
             ]
            ],
            "type": "heatmap"
           }
          ],
          "heatmapgl": [
           {
            "colorbar": {
             "outlinewidth": 0,
             "ticks": ""
            },
            "colorscale": [
             [
              0,
              "#0d0887"
             ],
             [
              0.1111111111111111,
              "#46039f"
             ],
             [
              0.2222222222222222,
              "#7201a8"
             ],
             [
              0.3333333333333333,
              "#9c179e"
             ],
             [
              0.4444444444444444,
              "#bd3786"
             ],
             [
              0.5555555555555556,
              "#d8576b"
             ],
             [
              0.6666666666666666,
              "#ed7953"
             ],
             [
              0.7777777777777778,
              "#fb9f3a"
             ],
             [
              0.8888888888888888,
              "#fdca26"
             ],
             [
              1,
              "#f0f921"
             ]
            ],
            "type": "heatmapgl"
           }
          ],
          "histogram": [
           {
            "marker": {
             "pattern": {
              "fillmode": "overlay",
              "size": 10,
              "solidity": 0.2
             }
            },
            "type": "histogram"
           }
          ],
          "histogram2d": [
           {
            "colorbar": {
             "outlinewidth": 0,
             "ticks": ""
            },
            "colorscale": [
             [
              0,
              "#0d0887"
             ],
             [
              0.1111111111111111,
              "#46039f"
             ],
             [
              0.2222222222222222,
              "#7201a8"
             ],
             [
              0.3333333333333333,
              "#9c179e"
             ],
             [
              0.4444444444444444,
              "#bd3786"
             ],
             [
              0.5555555555555556,
              "#d8576b"
             ],
             [
              0.6666666666666666,
              "#ed7953"
             ],
             [
              0.7777777777777778,
              "#fb9f3a"
             ],
             [
              0.8888888888888888,
              "#fdca26"
             ],
             [
              1,
              "#f0f921"
             ]
            ],
            "type": "histogram2d"
           }
          ],
          "histogram2dcontour": [
           {
            "colorbar": {
             "outlinewidth": 0,
             "ticks": ""
            },
            "colorscale": [
             [
              0,
              "#0d0887"
             ],
             [
              0.1111111111111111,
              "#46039f"
             ],
             [
              0.2222222222222222,
              "#7201a8"
             ],
             [
              0.3333333333333333,
              "#9c179e"
             ],
             [
              0.4444444444444444,
              "#bd3786"
             ],
             [
              0.5555555555555556,
              "#d8576b"
             ],
             [
              0.6666666666666666,
              "#ed7953"
             ],
             [
              0.7777777777777778,
              "#fb9f3a"
             ],
             [
              0.8888888888888888,
              "#fdca26"
             ],
             [
              1,
              "#f0f921"
             ]
            ],
            "type": "histogram2dcontour"
           }
          ],
          "mesh3d": [
           {
            "colorbar": {
             "outlinewidth": 0,
             "ticks": ""
            },
            "type": "mesh3d"
           }
          ],
          "parcoords": [
           {
            "line": {
             "colorbar": {
              "outlinewidth": 0,
              "ticks": ""
             }
            },
            "type": "parcoords"
           }
          ],
          "pie": [
           {
            "automargin": true,
            "type": "pie"
           }
          ],
          "scatter": [
           {
            "fillpattern": {
             "fillmode": "overlay",
             "size": 10,
             "solidity": 0.2
            },
            "type": "scatter"
           }
          ],
          "scatter3d": [
           {
            "line": {
             "colorbar": {
              "outlinewidth": 0,
              "ticks": ""
             }
            },
            "marker": {
             "colorbar": {
              "outlinewidth": 0,
              "ticks": ""
             }
            },
            "type": "scatter3d"
           }
          ],
          "scattercarpet": [
           {
            "marker": {
             "colorbar": {
              "outlinewidth": 0,
              "ticks": ""
             }
            },
            "type": "scattercarpet"
           }
          ],
          "scattergeo": [
           {
            "marker": {
             "colorbar": {
              "outlinewidth": 0,
              "ticks": ""
             }
            },
            "type": "scattergeo"
           }
          ],
          "scattergl": [
           {
            "marker": {
             "colorbar": {
              "outlinewidth": 0,
              "ticks": ""
             }
            },
            "type": "scattergl"
           }
          ],
          "scattermapbox": [
           {
            "marker": {
             "colorbar": {
              "outlinewidth": 0,
              "ticks": ""
             }
            },
            "type": "scattermapbox"
           }
          ],
          "scatterpolar": [
           {
            "marker": {
             "colorbar": {
              "outlinewidth": 0,
              "ticks": ""
             }
            },
            "type": "scatterpolar"
           }
          ],
          "scatterpolargl": [
           {
            "marker": {
             "colorbar": {
              "outlinewidth": 0,
              "ticks": ""
             }
            },
            "type": "scatterpolargl"
           }
          ],
          "scatterternary": [
           {
            "marker": {
             "colorbar": {
              "outlinewidth": 0,
              "ticks": ""
             }
            },
            "type": "scatterternary"
           }
          ],
          "surface": [
           {
            "colorbar": {
             "outlinewidth": 0,
             "ticks": ""
            },
            "colorscale": [
             [
              0,
              "#0d0887"
             ],
             [
              0.1111111111111111,
              "#46039f"
             ],
             [
              0.2222222222222222,
              "#7201a8"
             ],
             [
              0.3333333333333333,
              "#9c179e"
             ],
             [
              0.4444444444444444,
              "#bd3786"
             ],
             [
              0.5555555555555556,
              "#d8576b"
             ],
             [
              0.6666666666666666,
              "#ed7953"
             ],
             [
              0.7777777777777778,
              "#fb9f3a"
             ],
             [
              0.8888888888888888,
              "#fdca26"
             ],
             [
              1,
              "#f0f921"
             ]
            ],
            "type": "surface"
           }
          ],
          "table": [
           {
            "cells": {
             "fill": {
              "color": "#EBF0F8"
             },
             "line": {
              "color": "white"
             }
            },
            "header": {
             "fill": {
              "color": "#C8D4E3"
             },
             "line": {
              "color": "white"
             }
            },
            "type": "table"
           }
          ]
         },
         "layout": {
          "annotationdefaults": {
           "arrowcolor": "#2a3f5f",
           "arrowhead": 0,
           "arrowwidth": 1
          },
          "autotypenumbers": "strict",
          "coloraxis": {
           "colorbar": {
            "outlinewidth": 0,
            "ticks": ""
           }
          },
          "colorscale": {
           "diverging": [
            [
             0,
             "#8e0152"
            ],
            [
             0.1,
             "#c51b7d"
            ],
            [
             0.2,
             "#de77ae"
            ],
            [
             0.3,
             "#f1b6da"
            ],
            [
             0.4,
             "#fde0ef"
            ],
            [
             0.5,
             "#f7f7f7"
            ],
            [
             0.6,
             "#e6f5d0"
            ],
            [
             0.7,
             "#b8e186"
            ],
            [
             0.8,
             "#7fbc41"
            ],
            [
             0.9,
             "#4d9221"
            ],
            [
             1,
             "#276419"
            ]
           ],
           "sequential": [
            [
             0,
             "#0d0887"
            ],
            [
             0.1111111111111111,
             "#46039f"
            ],
            [
             0.2222222222222222,
             "#7201a8"
            ],
            [
             0.3333333333333333,
             "#9c179e"
            ],
            [
             0.4444444444444444,
             "#bd3786"
            ],
            [
             0.5555555555555556,
             "#d8576b"
            ],
            [
             0.6666666666666666,
             "#ed7953"
            ],
            [
             0.7777777777777778,
             "#fb9f3a"
            ],
            [
             0.8888888888888888,
             "#fdca26"
            ],
            [
             1,
             "#f0f921"
            ]
           ],
           "sequentialminus": [
            [
             0,
             "#0d0887"
            ],
            [
             0.1111111111111111,
             "#46039f"
            ],
            [
             0.2222222222222222,
             "#7201a8"
            ],
            [
             0.3333333333333333,
             "#9c179e"
            ],
            [
             0.4444444444444444,
             "#bd3786"
            ],
            [
             0.5555555555555556,
             "#d8576b"
            ],
            [
             0.6666666666666666,
             "#ed7953"
            ],
            [
             0.7777777777777778,
             "#fb9f3a"
            ],
            [
             0.8888888888888888,
             "#fdca26"
            ],
            [
             1,
             "#f0f921"
            ]
           ]
          },
          "colorway": [
           "#636efa",
           "#EF553B",
           "#00cc96",
           "#ab63fa",
           "#FFA15A",
           "#19d3f3",
           "#FF6692",
           "#B6E880",
           "#FF97FF",
           "#FECB52"
          ],
          "font": {
           "color": "#2a3f5f"
          },
          "geo": {
           "bgcolor": "white",
           "lakecolor": "white",
           "landcolor": "#E5ECF6",
           "showlakes": true,
           "showland": true,
           "subunitcolor": "white"
          },
          "hoverlabel": {
           "align": "left"
          },
          "hovermode": "closest",
          "mapbox": {
           "style": "light"
          },
          "paper_bgcolor": "white",
          "plot_bgcolor": "#E5ECF6",
          "polar": {
           "angularaxis": {
            "gridcolor": "white",
            "linecolor": "white",
            "ticks": ""
           },
           "bgcolor": "#E5ECF6",
           "radialaxis": {
            "gridcolor": "white",
            "linecolor": "white",
            "ticks": ""
           }
          },
          "scene": {
           "xaxis": {
            "backgroundcolor": "#E5ECF6",
            "gridcolor": "white",
            "gridwidth": 2,
            "linecolor": "white",
            "showbackground": true,
            "ticks": "",
            "zerolinecolor": "white"
           },
           "yaxis": {
            "backgroundcolor": "#E5ECF6",
            "gridcolor": "white",
            "gridwidth": 2,
            "linecolor": "white",
            "showbackground": true,
            "ticks": "",
            "zerolinecolor": "white"
           },
           "zaxis": {
            "backgroundcolor": "#E5ECF6",
            "gridcolor": "white",
            "gridwidth": 2,
            "linecolor": "white",
            "showbackground": true,
            "ticks": "",
            "zerolinecolor": "white"
           }
          },
          "shapedefaults": {
           "line": {
            "color": "#2a3f5f"
           }
          },
          "ternary": {
           "aaxis": {
            "gridcolor": "white",
            "linecolor": "white",
            "ticks": ""
           },
           "baxis": {
            "gridcolor": "white",
            "linecolor": "white",
            "ticks": ""
           },
           "bgcolor": "#E5ECF6",
           "caxis": {
            "gridcolor": "white",
            "linecolor": "white",
            "ticks": ""
           }
          },
          "title": {
           "x": 0.05
          },
          "xaxis": {
           "automargin": true,
           "gridcolor": "white",
           "linecolor": "white",
           "ticks": "",
           "title": {
            "standoff": 15
           },
           "zerolinecolor": "white",
           "zerolinewidth": 2
          },
          "yaxis": {
           "automargin": true,
           "gridcolor": "white",
           "linecolor": "white",
           "ticks": "",
           "title": {
            "standoff": 15
           },
           "zerolinecolor": "white",
           "zerolinewidth": 2
          }
         }
        },
        "title": {
         "text": "Top 10 Counties by Average PM2.5 in 2020 and Corresponding Asthma Rates"
        },
        "xaxis": {
         "anchor": "y",
         "domain": [
          0,
          1
         ],
         "title": {
          "text": "Average PM2.5 (μg/m³)"
         }
        },
        "yaxis": {
         "anchor": "x",
         "domain": [
          0,
          1
         ],
         "title": {
          "text": ""
         }
        }
       }
      }
     },
     "metadata": {},
     "output_type": "display_data"
    }
   ],
   "source": [
    "# Combine county and state into a single label\n",
    "top10_pm25_asthma[\"County, State\"] = top10_pm25_asthma[\"county\"] + \", \" + top10_pm25_asthma[\"state\"]\n",
    "\n",
    "# Sort by PM2.5 for cleaner plotting\n",
    "top10_pm25_asthma = top10_pm25_asthma.sort_values(\"avg_pm25\")\n",
    "\n",
    "# Create horizontal bar chart\n",
    "fig = px.bar(\n",
    "    top10_pm25_asthma,\n",
    "    x=\"avg_pm25\",\n",
    "    y=\"County, State\",\n",
    "    color=\"asthma_rate\",\n",
    "    orientation=\"h\",\n",
    "    labels={\n",
    "        \"avg_pm25\": \"Average PM2.5 (μg/m³)\",\n",
    "        \"asthma_rate\": \"Asthma Rate (%)\",\n",
    "        \"County, State\": \"County\"\n",
    "    },\n",
    "    title=\"Top 10 Counties by Average PM2.5 in 2020 and Corresponding Asthma Rates\",\n",
    "    color_continuous_scale=\"Reds\"\n",
    ")\n",
    "\n",
    "fig.update_layout(\n",
    "    xaxis_title=\"Average PM2.5 (μg/m³)\",\n",
    "    yaxis_title=\"\",\n",
    "    coloraxis_colorbar=dict(title=\"Asthma Rate (%)\"),\n",
    "    margin={\"l\": 120, \"r\": 20, \"t\": 60, \"b\": 40}\n",
    ")\n",
    "\n",
    "fig.show()\n",
    "\n",
    "\n",
    "# Save as html\n",
    "fig.write_html(\"pm25_asthma_chart.html\")"
   ]
  },
  {
   "cell_type": "code",
   "execution_count": 9,
   "metadata": {},
   "outputs": [
    {
     "name": "stdout",
     "output_type": "stream",
     "text": [
      "aiobotocore @ file:///home/conda/feedstock_root/build_artifacts/aiobotocore_1741606508148/work\n",
      "aiohappyeyeballs @ file:///home/conda/feedstock_root/build_artifacts/aiohappyeyeballs_1741775197943/work\n",
      "aiohttp @ file:///D:/bld/aiohttp_1743597000741/work\n",
      "aioitertools @ file:///home/conda/feedstock_root/build_artifacts/aioitertools_1735329051909/work\n",
      "aiosignal @ file:///home/conda/feedstock_root/build_artifacts/aiosignal_1734342155601/work\n",
      "ansi2html @ file:///D:/bld/ansi2html_1726555651440/work\n",
      "anyio @ file:///C:/b/abs_31grv7a7bl/croot/anyio_1729121290992/work\n",
      "argon2-cffi @ file:///opt/conda/conda-bld/argon2-cffi_1645000214183/work\n",
      "argon2-cffi-bindings @ file:///C:/b/abs_f11axiliot/croot/argon2-cffi-bindings_1736182463870/work\n",
      "asttokens @ file:///home/conda/feedstock_root/build_artifacts/asttokens_1733250440834/work\n",
      "async-lru @ file:///C:/b/abs_e0hjkvwwb5/croot/async-lru_1699554572212/work\n",
      "attrs @ file:///home/conda/feedstock_root/build_artifacts/attrs_1741918516150/work\n",
      "babel @ file:///C:/b/abs_ffzt1bmjth/croot/babel_1737454394148/work\n",
      "beautifulsoup4 @ file:///C:/b/abs_d5wytg_p0w/croot/beautifulsoup4-split_1718029833749/work\n",
      "bleach @ file:///C:/b/abs_925i9psm3u/croot/bleach_1732292896852/work\n",
      "blinker @ file:///home/conda/feedstock_root/build_artifacts/blinker_1731096409132/work\n",
      "boto3 @ file:///home/conda/feedstock_root/build_artifacts/boto3_1740582741261/work\n",
      "botocore @ file:///home/conda/feedstock_root/build_artifacts/botocore_1740533726826/work\n",
      "Brotli @ file:///D:/bld/brotli-split_1725267609074/work\n",
      "certifi @ file:///C:/b/abs_8a944p1_gn/croot/certifi_1738623753421/work/certifi\n",
      "cffi @ file:///D:/bld/cffi_1725560706917/work\n",
      "charset-normalizer @ file:///home/conda/feedstock_root/build_artifacts/charset-normalizer_1735929714516/work\n",
      "click @ file:///D:/bld/click_1734858834134/work\n",
      "colorama @ file:///home/conda/feedstock_root/build_artifacts/colorama_1733218098505/work\n",
      "comm @ file:///home/conda/feedstock_root/build_artifacts/comm_1733502965406/work\n",
      "contourpy @ file:///D:/bld/contourpy_1731428338786/work\n",
      "cycler @ file:///home/conda/feedstock_root/build_artifacts/cycler_1733332471406/work\n",
      "dash @ file:///home/conda/feedstock_root/build_artifacts/dash_1737726527110/work\n",
      "dash-bootstrap-components @ file:///home/conda/feedstock_root/build_artifacts/dash-bootstrap-components_1737026510739/work\n",
      "dash-core-components @ file:///home/conda/feedstock_root/build_artifacts/dash-core-components_1645162191927/work\n",
      "dash-table @ file:///home/conda/feedstock_root/build_artifacts/dash-table_1645162199872/work\n",
      "dash_html_components @ file:///home/conda/feedstock_root/build_artifacts/dash-html-components_1735288456961/work\n",
      "debugpy @ file:///D:/bld/debugpy_1741148420317/work\n",
      "decorator @ file:///home/conda/feedstock_root/build_artifacts/decorator_1740384970518/work\n",
      "defusedxml @ file:///tmp/build/80754af9/defusedxml_1615228127516/work\n",
      "editables @ file:///home/conda/feedstock_root/build_artifacts/editables_1733208130372/work\n",
      "et_xmlfile @ file:///home/conda/feedstock_root/build_artifacts/et_xmlfile_1733749653422/work\n",
      "exceptiongroup @ file:///home/conda/feedstock_root/build_artifacts/exceptiongroup_1733208806608/work\n",
      "executing @ file:///home/conda/feedstock_root/build_artifacts/executing_1733569351617/work\n",
      "fastjsonschema @ file:///C:/b/abs_4ev90296ly/croot/python-fastjsonschema_1731939386416/work\n",
      "Flask @ file:///home/conda/feedstock_root/build_artifacts/flask_1741793020411/work\n",
      "fonttools @ file:///D:/bld/fonttools_1743732204569/work\n",
      "frozenlist @ file:///D:/bld/frozenlist_1737645258591/work\n",
      "fsspec @ file:///home/conda/feedstock_root/build_artifacts/fsspec_1743437245292/work\n",
      "h11 @ file:///C:/b/abs_1czwoyexjf/croot/h11_1706652332846/work\n",
      "h2 @ file:///home/conda/feedstock_root/build_artifacts/h2_1738578511449/work\n",
      "hatchling @ file:///home/conda/feedstock_root/build_artifacts/hatchling_1734311582040/work\n",
      "hpack @ file:///home/conda/feedstock_root/build_artifacts/hpack_1737618293087/work\n",
      "httpcore @ file:///C:/b/abs_55n7g233bw/croot/httpcore_1706728507241/work\n",
      "httpx @ file:///C:/b/abs_43e135shby/croot/httpx_1723474830126/work\n",
      "hyperframe @ file:///home/conda/feedstock_root/build_artifacts/hyperframe_1737618333194/work\n",
      "idna @ file:///home/conda/feedstock_root/build_artifacts/idna_1733211830134/work\n",
      "importlib_metadata @ file:///home/conda/feedstock_root/build_artifacts/importlib-metadata_1737420181517/work\n",
      "ipykernel @ file:///D:/bld/ipykernel_1719845595208/work\n",
      "ipython @ file:///D:/bld/bld/rattler-build_ipython_1744033183/work\n",
      "ipython_pygments_lexers @ file:///home/conda/feedstock_root/build_artifacts/ipython_pygments_lexers_1737123620466/work\n",
      "ipywidgets==8.1.6\n",
      "itsdangerous @ file:///home/conda/feedstock_root/build_artifacts/itsdangerous_1733308265247/work\n",
      "jedi @ file:///home/conda/feedstock_root/build_artifacts/jedi_1733300866624/work\n",
      "Jinja2 @ file:///home/conda/feedstock_root/build_artifacts/jinja2_1741263328855/work\n",
      "jmespath @ file:///home/conda/feedstock_root/build_artifacts/jmespath_1733229141657/work\n",
      "joblib @ file:///home/conda/feedstock_root/build_artifacts/joblib_1733736026804/work\n",
      "json5 @ file:///C:/b/abs_743lprxrv5/croot/json5_1730786818336/work\n",
      "jsonschema @ file:///C:/b/abs_394_t6__xq/croot/jsonschema_1728486718320/work\n",
      "jsonschema-specifications @ file:///C:/b/abs_0brvm6vryw/croot/jsonschema-specifications_1699032417323/work\n",
      "jupyter-dash @ file:///home/conda/feedstock_root/build_artifacts/jupyter-dash_1648919001274/work\n",
      "jupyter-events @ file:///C:/b/abs_9cm3qlticu/croot/jupyter_events_1741184612840/work\n",
      "jupyter-lsp @ file:///C:/b/abs_ecle3em9d4/croot/jupyter-lsp-meta_1699978291372/work\n",
      "jupyter_client @ file:///home/conda/feedstock_root/build_artifacts/jupyter_client_1733440914442/work\n",
      "jupyter_core @ file:///D:/bld/jupyter_core_1727163532151/work\n",
      "jupyter_server @ file:///C:/b/abs_dd442s1uya/croot/jupyter_server_1741206396661/work\n",
      "jupyter_server_terminals @ file:///C:/b/abs_ec0dq4b50j/croot/jupyter_server_terminals_1686870763512/work\n",
      "jupyterlab @ file:///C:/b/abs_adgv7wgabm/croot/jupyterlab_1737555444636/work\n",
      "jupyterlab_pygments @ file:///C:/b/abs_d5alfet8m6/croot/jupyterlab_pygments_1741124274578/work\n",
      "jupyterlab_server @ file:///C:/b/abs_fdi5r_tpjc/croot/jupyterlab_server_1725865372811/work\n",
      "jupyterlab_widgets==3.0.14\n",
      "kiwisolver @ file:///D:/bld/kiwisolver_1725459295513/work\n",
      "MarkupSafe @ file:///D:/bld/markupsafe_1733219614059/work\n",
      "matplotlib==3.10.1\n",
      "matplotlib-inline @ file:///home/conda/feedstock_root/build_artifacts/matplotlib-inline_1733416936468/work\n",
      "mistune @ file:///C:/b/abs_77yql3poyz/croot/mistune_1741124004410/work\n",
      "multidict @ file:///D:/bld/multidict_1743843457924/work\n",
      "multipledispatch @ file:///home/conda/feedstock_root/build_artifacts/multipledispatch_1721907546485/work\n",
      "munkres==1.1.4\n",
      "natsort @ file:///home/conda/feedstock_root/build_artifacts/bld/rattler-build_natsort_1733880463/work\n",
      "nbclient @ file:///C:/b/abs_a09c4t3h8x/croot/nbclient_1741124030330/work\n",
      "nbconvert @ file:///C:/b/abs_c27_60dzt8/croot/nbconvert-meta_1741191385337/work\n",
      "nbformat @ file:///C:/b/abs_c2jkw46etm/croot/nbformat_1728050303821/work\n",
      "nest_asyncio @ file:///home/conda/feedstock_root/build_artifacts/nest-asyncio_1733325553580/work\n",
      "notebook_shim @ file:///C:/b/abs_9ctyfgpncn/croot/notebook-shim_1741707829491/work\n",
      "numpy @ file:///D:/bld/numpy_1668919266942/work\n",
      "openpyxl @ file:///D:/bld/openpyxl_1725460865991/work\n",
      "overrides @ file:///C:/b/abs_cfh89c8yf4/croot/overrides_1699371165349/work\n",
      "packaging @ file:///home/conda/feedstock_root/build_artifacts/packaging_1733203243479/work\n",
      "pandas @ file:///D:/bld/pandas_1680107820656/work\n",
      "pandas_flavor @ file:///home/conda/feedstock_root/build_artifacts/pandas-flavor_1734683773383/work\n",
      "pandocfilters @ file:///opt/conda/conda-bld/pandocfilters_1643405455980/work\n",
      "parso @ file:///home/conda/feedstock_root/build_artifacts/parso_1733271261340/work\n",
      "pathspec @ file:///home/conda/feedstock_root/build_artifacts/pathspec_1733233363808/work\n",
      "pickleshare @ file:///home/conda/feedstock_root/build_artifacts/pickleshare_1733327343728/work\n",
      "pillow @ file:///D:/bld/pillow_1735929725088/work\n",
      "platformdirs @ file:///home/conda/feedstock_root/build_artifacts/bld/rattler-build_platformdirs_1742485085/work\n",
      "plotly @ file:///home/conda/feedstock_root/build_artifacts/plotly_1660480772389/work\n",
      "pluggy @ file:///home/conda/feedstock_root/build_artifacts/pluggy_1733222765875/work\n",
      "prometheus_client @ file:///C:/b/abs_8b175q_ub8/croot/prometheus_client_1744271638821/work\n",
      "prompt_toolkit @ file:///home/conda/feedstock_root/build_artifacts/prompt-toolkit_1737453357274/work\n",
      "propcache @ file:///D:/bld/propcache_1737635564183/work\n",
      "psutil @ file:///D:/bld/psutil_1740663127374/work\n",
      "pure_eval @ file:///home/conda/feedstock_root/build_artifacts/pure_eval_1733569405015/work\n",
      "pycparser @ file:///home/conda/feedstock_root/build_artifacts/bld/rattler-build_pycparser_1733195786/work\n",
      "Pygments @ file:///home/conda/feedstock_root/build_artifacts/pygments_1736243443484/work\n",
      "pyjanitor @ file:///home/conda/feedstock_root/build_artifacts/pyjanitor_1741352866671/work\n",
      "pyparsing @ file:///home/conda/feedstock_root/build_artifacts/pyparsing_1743089729650/work\n",
      "PySide6==6.9.0\n",
      "PySocks @ file:///D:/bld/pysocks_1733217287171/work\n",
      "python-dateutil @ file:///home/conda/feedstock_root/build_artifacts/python-dateutil_1733215673016/work\n",
      "python-dotenv @ file:///home/conda/feedstock_root/build_artifacts/bld/rattler-build_python-dotenv_1742948348/work\n",
      "python-json-logger @ file:///C:/b/abs_0cm_mnox0z/croot/python-json-logger_1734370042436/work\n",
      "pytz @ file:///home/conda/feedstock_root/build_artifacts/pytz_1742920838005/work\n",
      "pywin32==307\n",
      "pywinpty @ file:///C:/b/abs_883wh7sts8/croot/pywinpty_1741871674963/work\n",
      "PyYAML @ file:///D:/bld/pyyaml_1737454660454/work\n",
      "pyzmq @ file:///D:/bld/pyzmq_1743831235531/work\n",
      "referencing @ file:///C:/b/abs_09f4hj6adf/croot/referencing_1699012097448/work\n",
      "requests @ file:///home/conda/feedstock_root/build_artifacts/requests_1733217035951/work\n",
      "retrying @ file:///home/conda/feedstock_root/build_artifacts/retrying_1740053923454/work\n",
      "rfc3339-validator @ file:///C:/b/abs_ddfmseb_vm/croot/rfc3339-validator_1683077054906/work\n",
      "rfc3986-validator @ file:///C:/b/abs_6e9azihr8o/croot/rfc3986-validator_1683059049737/work\n",
      "rpds-py @ file:///C:/b/abs_0c6z5kcdb6/croot/rpds-py_1736545465023/work\n",
      "s3fs @ file:///home/conda/feedstock_root/build_artifacts/s3fs_1743454462010/work\n",
      "s3transfer @ file:///home/conda/feedstock_root/build_artifacts/s3transfer_1740681574349/work\n",
      "scikit-learn @ file:///D:/bld/scikit-learn_1666884912079/work\n",
      "scipy @ file:///C:/bld/scipy-split_1739790799455/work/dist/scipy-1.15.2-cp311-cp311-win_amd64.whl#sha256=7d4ec4c2c958f31576b5ea44433874f567d6f5e65bfcde22e2d960ac86b80515\n",
      "Send2Trash @ file:///C:/b/abs_7e73ol18dl/croot/send2trash_1736542724140/work\n",
      "shiboken6==6.9.0\n",
      "six @ file:///home/conda/feedstock_root/build_artifacts/six_1733380938961/work\n",
      "sniffio @ file:///C:/b/abs_3akdewudo_/croot/sniffio_1705431337396/work\n",
      "soupsieve @ file:///C:/b/abs_bbsvy9t4pl/croot/soupsieve_1696347611357/work\n",
      "stack_data @ file:///home/conda/feedstock_root/build_artifacts/stack_data_1733569443808/work\n",
      "tenacity @ file:///home/conda/feedstock_root/build_artifacts/tenacity_1743640740204/work\n",
      "terminado @ file:///C:/ci_311/terminado_1678228513830/work\n",
      "threadpoolctl @ file:///home/conda/feedstock_root/build_artifacts/threadpoolctl_1741878222898/work\n",
      "tinycss2 @ file:///C:/b/abs_df38owi5ma/croot/tinycss2_1738337725183/work\n",
      "tomli @ file:///home/conda/feedstock_root/build_artifacts/tomli_1733256695513/work\n",
      "tornado @ file:///D:/bld/tornado_1732615900055/work\n",
      "traitlets @ file:///home/conda/feedstock_root/build_artifacts/traitlets_1733367359838/work\n",
      "trove-classifiers @ file:///home/conda/feedstock_root/build_artifacts/trove-classifiers_1742485454731/work\n",
      "typing_extensions @ file:///home/conda/feedstock_root/build_artifacts/bld/rattler-build_typing_extensions_1743820059/work\n",
      "unicodedata2 @ file:///D:/bld/unicodedata2_1736692523011/work\n",
      "urllib3 @ file:///home/conda/feedstock_root/build_artifacts/urllib3_1734859416348/work\n",
      "wcwidth @ file:///home/conda/feedstock_root/build_artifacts/wcwidth_1733231326287/work\n",
      "webencodings==0.5.1\n",
      "websocket-client @ file:///C:/b/abs_5dmnxxoci9/croot/websocket-client_1715878351319/work\n",
      "Werkzeug @ file:///home/conda/feedstock_root/build_artifacts/werkzeug_1733160440960/work\n",
      "widgetsnbextension==4.0.14\n",
      "win_inet_pton @ file:///D:/bld/win_inet_pton_1733130564612/work\n",
      "wrapt @ file:///D:/bld/wrapt_1736869488076/work\n",
      "xarray @ file:///home/conda/feedstock_root/build_artifacts/xarray_1711742149839/work\n",
      "xlrd @ file:///home/conda/feedstock_root/build_artifacts/xlrd_1610224409810/work\n",
      "yarl @ file:///D:/bld/yarl_1737575828275/work\n",
      "zipp @ file:///home/conda/feedstock_root/build_artifacts/zipp_1732827521216/work\n",
      "zstandard==0.23.0\n",
      "Note: you may need to restart the kernel to use updated packages.\n"
     ]
    }
   ],
   "source": [
    "pip freeze"
   ]
  }
 ],
 "metadata": {
  "kernelspec": {
   "display_name": "end220-env",
   "language": "python",
   "name": "python3"
  },
  "language_info": {
   "codemirror_mode": {
    "name": "ipython",
    "version": 3
   },
   "file_extension": ".py",
   "mimetype": "text/x-python",
   "name": "python",
   "nbconvert_exporter": "python",
   "pygments_lexer": "ipython3",
   "version": "3.11.11"
  }
 },
 "nbformat": 4,
 "nbformat_minor": 2
}
