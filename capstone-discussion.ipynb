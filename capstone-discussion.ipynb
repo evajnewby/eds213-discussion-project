{
 "cells": [
  {
   "cell_type": "markdown",
   "metadata": {},
   "source": [
    "this is a word\n"
   ]
  }
 ],
 "metadata": {
  "kernelspec": {
   "display_name": "industrialenergy",
   "language": "python",
   "name": "python3"
  },
  "language_info": {
   "name": "python",
   "version": "3.11.11"
  }
 },
 "nbformat": 4,
 "nbformat_minor": 2
}
